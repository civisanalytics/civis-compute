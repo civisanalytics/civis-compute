{
 "cells": [
  {
   "cell_type": "markdown",
   "metadata": {},
   "source": [
    "# Convolutional Neural Networks and Fashion-MNIST with civis-compute\n",
    "\n",
    "This example fits a convolutional neural network classifier to the [Fashion-MNIST dataset](https://github.com/zalandoresearch/fashion-mnist). This dataset consists of 60,000 images of different articles of clothing and accessories. See this TesorFlow [tutorial](https://www.tensorflow.org/get_started/mnist/pros) for an introduction to the underlying methodology.\n",
    "\n",
    "In order to run the example locally, you need to have [muffnn](https://github.com/civisanalytics/muffnn) and [TensorFlow](https://www.tensorflow.org/) installed. This can be done with `pip`:\n",
    "\n",
    "```\n",
    "pip install muffnn tensorflow\n",
    "```\n",
    "\n",
    "To submit the example to Civis Platform, do the following:\n",
    "\n",
    "```\n",
    "$ civis-compute submit fashion_mnist.ipynb\n",
    "<JOBID>\n",
    "$ civis-compute status <JOBID>\n",
    "$ civis-compute get <JOBID>\n",
    "```"
   ]
  },
  {
   "cell_type": "code",
   "execution_count": 1,
   "metadata": {},
   "outputs": [],
   "source": [
    "import os\n",
    "import pickle\n",
    "import tensorflow as tf\n",
    "import numpy as np\n",
    "\n",
    "from cnn import ConvNetClassifier\n",
    "\n",
    "# These comments tell Civis Platform how to run the code.\n",
    "#CIVIS name=fashion mnist\n",
    "#CIVIS required_resources={cpu: 8192, memory: 16384, disk_space: 10.0}\n",
    "#CIVIS docker_image_name=civisanalytics/datascience-python\n",
    "#CIVIS docker_image_tag=3.2.0\n",
    "#CIVIS files=cnn.py  # files here get uploaded with your script and placed at the same path"
   ]
  },
  {
   "cell_type": "markdown",
   "metadata": {},
   "source": [
    "### Download the Train and Test Data"
   ]
  },
  {
   "cell_type": "code",
   "execution_count": 2,
   "metadata": {},
   "outputs": [
    {
     "name": "stdout",
     "output_type": "stream",
     "text": [
      "Cloning into 'fashion-mnist'...\n",
      "remote: Counting objects: 391, done.\u001b[K\n",
      "remote: Total 391 (delta 0), reused 0 (delta 0), pack-reused 391\u001b[K\n",
      "Receiving objects: 100% (391/391), 103.01 MiB | 4.19 MiB/s, done.\n",
      "Resolving deltas: 100% (211/211), done.\n"
     ]
    }
   ],
   "source": [
    "# The data is in the repo, so let's pull that down and read it in.\n",
    "!rm -rf fashion-mnist && \\\n",
    "    git clone https://github.com/zalandoresearch/fashion-mnist.git && \\\n",
    "    cp fashion-mnist/utils/*.py . && \\\n",
    "    rm __init__.py\n",
    "\n",
    "import mnist_reader\n",
    "Xtrn, ytrn = mnist_reader.load_mnist('fashion-mnist/data/fashion', kind='train')\n",
    "Xtst, ytst = mnist_reader.load_mnist('fashion-mnist/data/fashion', kind='t10k')\n",
    "\n",
    "Xtrn = Xtrn.astype(np.float32)\n",
    "ytrn = ytrn.astype(np.int32)\n",
    "Xtst = Xtst.astype(np.float32)\n",
    "ytst = ytst.astype(np.int32)\n",
    "\n",
    "# Normalize the data to [0, 1].\n",
    "Xtrn /= 255.0\n",
    "Xtst /= 255.0"
   ]
  },
  {
   "cell_type": "markdown",
   "metadata": {},
   "source": [
    "### Instantiate and Train the Classifier\n",
    "\n",
    "We are adding a little dropout for regularization and turning down the learning rate accordingly."
   ]
  },
  {
   "cell_type": "code",
   "execution_count": 3,
   "metadata": {},
   "outputs": [
    {
     "name": "stdout",
     "output_type": "stream",
     "text": [
      "epoch 0.20: test accuracy = 0.847\n",
      "epoch 0.40: test accuracy = 0.868\n",
      "epoch 0.60: test accuracy = 0.865\n",
      "epoch 0.80: test accuracy = 0.874\n",
      "epoch 1.00: test accuracy = 0.890\n",
      "epoch 1.20: test accuracy = 0.888\n",
      "epoch 1.40: test accuracy = 0.899\n",
      "epoch 1.60: test accuracy = 0.892\n",
      "epoch 1.80: test accuracy = 0.896\n",
      "epoch 2.00: test accuracy = 0.902\n",
      "epoch 2.20: test accuracy = 0.908\n",
      "epoch 2.40: test accuracy = 0.908\n",
      "epoch 2.60: test accuracy = 0.911\n",
      "epoch 2.80: test accuracy = 0.911\n",
      "epoch 3.00: test accuracy = 0.916\n",
      "epoch 3.20: test accuracy = 0.912\n",
      "epoch 3.40: test accuracy = 0.911\n",
      "epoch 3.60: test accuracy = 0.912\n",
      "epoch 3.80: test accuracy = 0.916\n",
      "epoch 4.00: test accuracy = 0.917\n",
      "epoch 4.20: test accuracy = 0.907\n",
      "epoch 4.40: test accuracy = 0.912\n",
      "epoch 4.60: test accuracy = 0.915\n",
      "epoch 4.80: test accuracy = 0.915\n",
      "epoch 5.00: test accuracy = 0.921\n"
     ]
    }
   ],
   "source": [
    "cnn = ConvNetClassifier(solver_kwargs={'learning_rate': 1e-3}, keep_prob=0.8, n_epochs=1)\n",
    "\n",
    "n_subepochs = 5\n",
    "subepoch_size = Xtrn.shape[0] // n_subepochs\n",
    "\n",
    "for i in range(5):\n",
    "    for subepoch in range(n_subepochs):\n",
    "        start = subepoch * subepoch_size\n",
    "        end = min(start + subepoch_size, Xtrn.shape[0])\n",
    "        cnn.partial_fit(Xtrn[start:end], ytrn[start:end], classes=np.unique(ytrn))\n",
    "\n",
    "        print('epoch %0.2f: test accuracy = %0.3f' % (\n",
    "            i + (subepoch + 1) / n_subepochs, cnn.score(Xtst, ytst)), flush=True)"
   ]
  },
  {
   "cell_type": "markdown",
   "metadata": {},
   "source": [
    "### Serialize the Classifier for Later\n",
    "\n",
    "`muffnn` automatically handles serialization of the `TensorFlow` graph and session, so we just have to pickle the model and save it in the right spot. Then `civis-compute` takes care of pushing it to Civis Platform file storage."
   ]
  },
  {
   "cell_type": "code",
   "execution_count": 4,
   "metadata": {},
   "outputs": [],
   "source": [
    "# We only save it if running in Platform.\n",
    "if 'CIVIS_JOB_DATA' in os.environ:\n",
    "    with open(os.path.expandvars(os.path.join('${CIVIS_JOB_DATA}', 'cnn.pkl')), 'wb') as fp:\n",
    "        pickle.dump(cnn, fp)"
   ]
  }
 ],
 "metadata": {
  "kernelspec": {
   "display_name": "Python 3",
   "language": "python",
   "name": "python3"
  },
  "language_info": {
   "codemirror_mode": {
    "name": "ipython",
    "version": 3
   },
   "file_extension": ".py",
   "mimetype": "text/x-python",
   "name": "python",
   "nbconvert_exporter": "python",
   "pygments_lexer": "ipython3",
   "version": "3.6.2"
  }
 },
 "nbformat": 4,
 "nbformat_minor": 2
}
